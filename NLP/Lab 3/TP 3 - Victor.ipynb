{
 "cells": [
  {
   "metadata": {},
   "cell_type": "markdown",
   "source": [
    "# Victor PAPIN - Data & IA TD 2 - TP 3\n",
    "\n",
    "\n",
    "Dataset : https://www.kaggle.com/datasets/jp797498e/twitter-entity-sentiment-analysis\n",
    "\n",
    "My kaggle : https://www.kaggle.com/viwu99\n"
   ],
   "id": "32b99c769699d400"
  },
  {
   "cell_type": "code",
   "id": "initial_id",
   "metadata": {
    "collapsed": true,
    "ExecuteTime": {
     "end_time": "2025-09-20T12:48:30.787714Z",
     "start_time": "2025-09-20T12:48:24.095811Z"
    }
   },
   "source": [
    "import pandas as pd\n",
    "import matplotlib.pyplot as plt\n",
    "import numpy as np\n",
    "import tensorflow as tf\n",
    "import re\n",
    "\n",
    "from numpy.core.numeric import normalize_axis_tuple\n",
    "from tensorflow.keras.preprocessing.text import Tokenizer\n",
    "import tensorflow as tf\n",
    "from sklearn.metrics import accuracy_score\n",
    "from sklearn.model_selection import train_test_split\n",
    "from sklearn.metrics import accuracy_score, confusion_matrix, precision_score, recall_score\n",
    "import seaborn as sns\n",
    "\n",
    "data = pd.read_csv('twitter_training.csv',header=None, names=[\"tweet_id\", \"entity\", \"sentiment\", \"text\"])\n",
    "\n",
    "data.head()\n",
    "data.info()\n"
   ],
   "outputs": [
    {
     "name": "stdout",
     "output_type": "stream",
     "text": [
      "<class 'pandas.core.frame.DataFrame'>\n",
      "RangeIndex: 74682 entries, 0 to 74681\n",
      "Data columns (total 4 columns):\n",
      " #   Column     Non-Null Count  Dtype \n",
      "---  ------     --------------  ----- \n",
      " 0   tweet_id   74682 non-null  int64 \n",
      " 1   entity     74682 non-null  object\n",
      " 2   sentiment  74682 non-null  object\n",
      " 3   text       73996 non-null  object\n",
      "dtypes: int64(1), object(3)\n",
      "memory usage: 2.3+ MB\n"
     ]
    }
   ],
   "execution_count": 1
  },
  {
   "metadata": {
    "ExecuteTime": {
     "end_time": "2025-09-20T12:48:30.817551Z",
     "start_time": "2025-09-20T12:48:30.810717Z"
    }
   },
   "cell_type": "code",
   "source": "data = data.drop(columns=['tweet_id', 'entity'])\n",
   "id": "88bcbe6226d9cbbd",
   "outputs": [],
   "execution_count": 2
  },
  {
   "metadata": {
    "ExecuteTime": {
     "end_time": "2025-09-20T12:48:32.579709Z",
     "start_time": "2025-09-20T12:48:30.825560Z"
    }
   },
   "cell_type": "code",
   "source": [
    "import re\n",
    "def normalize(data): #from the example\n",
    "    normalized = []\n",
    "    for i in data:\n",
    "        i = str(i).lower()\n",
    "        # get rid of urls\n",
    "\n",
    "        # get rid of non words and extra spaces\n",
    "        i = re.sub('\\\\W', ' ', i)\n",
    "        i = re.sub('\\n', '', i)\n",
    "        i = re.sub(' +', ' ', i)\n",
    "        i = re.sub('^ ', '', i)\n",
    "        i = re.sub(' $', '', i)\n",
    "        normalized.append(i)\n",
    "    return normalized\n",
    "\n",
    "from sklearn.preprocessing import LabelEncoder\n",
    "\n",
    "encoder = LabelEncoder()\n",
    "#identifying the feature // target\n",
    "features = data['text']\n",
    "targets = encoder.fit_transform(data['sentiment'])\n",
    "\n",
    "\n",
    "X_train, X_test, y_train, y_test = train_test_split(features, targets, test_size=0.20, random_state=18)\n",
    "print(X_train)\n",
    "\n",
    "# normalise\n",
    "\n",
    "X_train = normalize(X_train)\n",
    "X_test = normalize(X_test)\n",
    "\n",
    "# configuring tokenizer\n",
    "\n",
    "max_vocab = 10000\n",
    "tokenizer = Tokenizer(num_words=max_vocab)\n",
    "tokenizer.fit_on_texts(X_train)\n",
    "\n",
    "# tokenize\n",
    "\n",
    "X_train = tokenizer.texts_to_sequences(X_train)\n",
    "X_test = tokenizer.texts_to_sequences(X_test)\n",
    "\n",
    "\n"
   ],
   "id": "a4aca09fe533e541",
   "outputs": [
    {
     "name": "stdout",
     "output_type": "stream",
     "text": [
      "53712    Happy 4th of July to the @callofduty nation. E...\n",
      "50974    I ’ m unstoppable compared with Bayern FC Muni...\n",
      "10985    @EricGHarrison that would so get the Halo char...\n",
      "39855                         Fair play I’m pretty high on\n",
      "32155                      Grinding.. twitch.tv / krrnster\n",
      "                               ...                        \n",
      "70830    The CQC takedowns are some of my favourite in ...\n",
      "49073    mfs be 17 in a training facilities at fifa, br...\n",
      "1726     Team My sona as a vault hunter. Borderlands wi...\n",
      "35653    I have never been prouder (or more grateful) t...\n",
      "60714        gta 5 rp is trash no one wanted to help me . \n",
      "Name: text, Length: 59745, dtype: object\n"
     ]
    }
   ],
   "execution_count": 3
  },
  {
   "metadata": {
    "ExecuteTime": {
     "end_time": "2025-09-20T12:48:33.062841Z",
     "start_time": "2025-09-20T12:48:33.013544Z"
    }
   },
   "cell_type": "code",
   "source": [
    "#Making the RNN (here LSTM)\n",
    "\n",
    "model = tf.keras.Sequential([\n",
    "    tf.keras.layers.Embedding(max_vocab, 128),\n",
    "    tf.keras.layers.Bidirectional(tf.keras.layers.LSTM(64,  return_sequences=True)),\n",
    "    tf.keras.layers.Bidirectional(tf.keras.layers.LSTM(16)),\n",
    "    tf.keras.layers.Dense(64, activation='relu'),\n",
    "    tf.keras.layers.Dropout(0.5),\n",
    "    tf.keras.layers.Dense(4)\n",
    "])\n",
    "\n",
    "model.summary()"
   ],
   "id": "2d177c8ce134f857",
   "outputs": [
    {
     "data": {
      "text/plain": [
       "\u001B[1mModel: \"sequential\"\u001B[0m\n"
      ],
      "text/html": [
       "<pre style=\"white-space:pre;overflow-x:auto;line-height:normal;font-family:Menlo,'DejaVu Sans Mono',consolas,'Courier New',monospace\"><span style=\"font-weight: bold\">Model: \"sequential\"</span>\n",
       "</pre>\n"
      ]
     },
     "metadata": {},
     "output_type": "display_data"
    },
    {
     "data": {
      "text/plain": [
       "┏━━━━━━━━━━━━━━━━━━━━━━━━━━━━━━━━━┳━━━━━━━━━━━━━━━━━━━━━━━━┳━━━━━━━━━━━━━━━┓\n",
       "┃\u001B[1m \u001B[0m\u001B[1mLayer (type)                   \u001B[0m\u001B[1m \u001B[0m┃\u001B[1m \u001B[0m\u001B[1mOutput Shape          \u001B[0m\u001B[1m \u001B[0m┃\u001B[1m \u001B[0m\u001B[1m      Param #\u001B[0m\u001B[1m \u001B[0m┃\n",
       "┡━━━━━━━━━━━━━━━━━━━━━━━━━━━━━━━━━╇━━━━━━━━━━━━━━━━━━━━━━━━╇━━━━━━━━━━━━━━━┩\n",
       "│ embedding (\u001B[38;5;33mEmbedding\u001B[0m)           │ ?                      │   \u001B[38;5;34m0\u001B[0m (unbuilt) │\n",
       "├─────────────────────────────────┼────────────────────────┼───────────────┤\n",
       "│ bidirectional (\u001B[38;5;33mBidirectional\u001B[0m)   │ ?                      │   \u001B[38;5;34m0\u001B[0m (unbuilt) │\n",
       "├─────────────────────────────────┼────────────────────────┼───────────────┤\n",
       "│ bidirectional_1 (\u001B[38;5;33mBidirectional\u001B[0m) │ ?                      │   \u001B[38;5;34m0\u001B[0m (unbuilt) │\n",
       "├─────────────────────────────────┼────────────────────────┼───────────────┤\n",
       "│ dense (\u001B[38;5;33mDense\u001B[0m)                   │ ?                      │   \u001B[38;5;34m0\u001B[0m (unbuilt) │\n",
       "├─────────────────────────────────┼────────────────────────┼───────────────┤\n",
       "│ dropout (\u001B[38;5;33mDropout\u001B[0m)               │ ?                      │             \u001B[38;5;34m0\u001B[0m │\n",
       "├─────────────────────────────────┼────────────────────────┼───────────────┤\n",
       "│ dense_1 (\u001B[38;5;33mDense\u001B[0m)                 │ ?                      │   \u001B[38;5;34m0\u001B[0m (unbuilt) │\n",
       "└─────────────────────────────────┴────────────────────────┴───────────────┘\n"
      ],
      "text/html": [
       "<pre style=\"white-space:pre;overflow-x:auto;line-height:normal;font-family:Menlo,'DejaVu Sans Mono',consolas,'Courier New',monospace\">┏━━━━━━━━━━━━━━━━━━━━━━━━━━━━━━━━━┳━━━━━━━━━━━━━━━━━━━━━━━━┳━━━━━━━━━━━━━━━┓\n",
       "┃<span style=\"font-weight: bold\"> Layer (type)                    </span>┃<span style=\"font-weight: bold\"> Output Shape           </span>┃<span style=\"font-weight: bold\">       Param # </span>┃\n",
       "┡━━━━━━━━━━━━━━━━━━━━━━━━━━━━━━━━━╇━━━━━━━━━━━━━━━━━━━━━━━━╇━━━━━━━━━━━━━━━┩\n",
       "│ embedding (<span style=\"color: #0087ff; text-decoration-color: #0087ff\">Embedding</span>)           │ ?                      │   <span style=\"color: #00af00; text-decoration-color: #00af00\">0</span> (unbuilt) │\n",
       "├─────────────────────────────────┼────────────────────────┼───────────────┤\n",
       "│ bidirectional (<span style=\"color: #0087ff; text-decoration-color: #0087ff\">Bidirectional</span>)   │ ?                      │   <span style=\"color: #00af00; text-decoration-color: #00af00\">0</span> (unbuilt) │\n",
       "├─────────────────────────────────┼────────────────────────┼───────────────┤\n",
       "│ bidirectional_1 (<span style=\"color: #0087ff; text-decoration-color: #0087ff\">Bidirectional</span>) │ ?                      │   <span style=\"color: #00af00; text-decoration-color: #00af00\">0</span> (unbuilt) │\n",
       "├─────────────────────────────────┼────────────────────────┼───────────────┤\n",
       "│ dense (<span style=\"color: #0087ff; text-decoration-color: #0087ff\">Dense</span>)                   │ ?                      │   <span style=\"color: #00af00; text-decoration-color: #00af00\">0</span> (unbuilt) │\n",
       "├─────────────────────────────────┼────────────────────────┼───────────────┤\n",
       "│ dropout (<span style=\"color: #0087ff; text-decoration-color: #0087ff\">Dropout</span>)               │ ?                      │             <span style=\"color: #00af00; text-decoration-color: #00af00\">0</span> │\n",
       "├─────────────────────────────────┼────────────────────────┼───────────────┤\n",
       "│ dense_1 (<span style=\"color: #0087ff; text-decoration-color: #0087ff\">Dense</span>)                 │ ?                      │   <span style=\"color: #00af00; text-decoration-color: #00af00\">0</span> (unbuilt) │\n",
       "└─────────────────────────────────┴────────────────────────┴───────────────┘\n",
       "</pre>\n"
      ]
     },
     "metadata": {},
     "output_type": "display_data"
    },
    {
     "data": {
      "text/plain": [
       "\u001B[1m Total params: \u001B[0m\u001B[38;5;34m0\u001B[0m (0.00 B)\n"
      ],
      "text/html": [
       "<pre style=\"white-space:pre;overflow-x:auto;line-height:normal;font-family:Menlo,'DejaVu Sans Mono',consolas,'Courier New',monospace\"><span style=\"font-weight: bold\"> Total params: </span><span style=\"color: #00af00; text-decoration-color: #00af00\">0</span> (0.00 B)\n",
       "</pre>\n"
      ]
     },
     "metadata": {},
     "output_type": "display_data"
    },
    {
     "data": {
      "text/plain": [
       "\u001B[1m Trainable params: \u001B[0m\u001B[38;5;34m0\u001B[0m (0.00 B)\n"
      ],
      "text/html": [
       "<pre style=\"white-space:pre;overflow-x:auto;line-height:normal;font-family:Menlo,'DejaVu Sans Mono',consolas,'Courier New',monospace\"><span style=\"font-weight: bold\"> Trainable params: </span><span style=\"color: #00af00; text-decoration-color: #00af00\">0</span> (0.00 B)\n",
       "</pre>\n"
      ]
     },
     "metadata": {},
     "output_type": "display_data"
    },
    {
     "data": {
      "text/plain": [
       "\u001B[1m Non-trainable params: \u001B[0m\u001B[38;5;34m0\u001B[0m (0.00 B)\n"
      ],
      "text/html": [
       "<pre style=\"white-space:pre;overflow-x:auto;line-height:normal;font-family:Menlo,'DejaVu Sans Mono',consolas,'Courier New',monospace\"><span style=\"font-weight: bold\"> Non-trainable params: </span><span style=\"color: #00af00; text-decoration-color: #00af00\">0</span> (0.00 B)\n",
       "</pre>\n"
      ]
     },
     "metadata": {},
     "output_type": "display_data"
    }
   ],
   "execution_count": 4
  },
  {
   "metadata": {
    "ExecuteTime": {
     "end_time": "2025-09-20T12:48:33.147400Z",
     "start_time": "2025-09-20T12:48:33.124351Z"
    }
   },
   "cell_type": "code",
   "source": "data.head(50)",
   "id": "2ca34c9f9b012306",
   "outputs": [
    {
     "data": {
      "text/plain": [
       "   sentiment                                               text\n",
       "0   Positive  im getting on borderlands and i will murder yo...\n",
       "1   Positive  I am coming to the borders and I will kill you...\n",
       "2   Positive  im getting on borderlands and i will kill you ...\n",
       "3   Positive  im coming on borderlands and i will murder you...\n",
       "4   Positive  im getting on borderlands 2 and i will murder ...\n",
       "5   Positive  im getting into borderlands and i can murder y...\n",
       "6   Positive  So I spent a few hours making something for fu...\n",
       "7   Positive  So I spent a couple of hours doing something f...\n",
       "8   Positive  So I spent a few hours doing something for fun...\n",
       "9   Positive  So I spent a few hours making something for fu...\n",
       "10  Positive  2010 So I spent a few hours making something f...\n",
       "11  Positive                                                was\n",
       "12   Neutral  Rock-Hard La Varlope, RARE & POWERFUL, HANDSOM...\n",
       "13   Neutral  Rock-Hard La Varlope, RARE & POWERFUL, HANDSOM...\n",
       "14   Neutral  Rock-Hard La Varlope, RARE & POWERFUL, HANDSOM...\n",
       "15   Neutral  Rock-Hard La Vita, RARE BUT POWERFUL, HANDSOME...\n",
       "16   Neutral  Live Rock - Hard music La la Varlope, RARE & t...\n",
       "17   Neutral  I-Hard like me, RARE LONDON DE, HANDSOME 2011,...\n",
       "18  Positive  that was the first borderlands session in a lo...\n",
       "19  Positive  this was the first Borderlands session in a lo...\n",
       "20  Positive  that was the first borderlands session in a lo...\n",
       "21  Positive  that was the first borderlands session in a lo...\n",
       "22  Positive  that I was the first real borderlands session ...\n",
       "23  Positive  that was the first borderlands session in a ho...\n",
       "24  Negative  the biggest dissappoinment in my life came out...\n",
       "25  Negative  The biggest disappointment of my life came a y...\n",
       "26  Negative  The biggest disappointment of my life came a y...\n",
       "27  Negative  the biggest dissappoinment in my life coming o...\n",
       "28  Negative  For the biggest male dissappoinment in my life...\n",
       "29  Negative  the biggest dissappoinment in my life came bac...\n",
       "30  Positive  WE FINISHED BORDERLANDS 3 FINALLY YAS! Thank y...\n",
       "31  Positive  WE FINALLY FINALLY FIND BORDERLANDS 3 YES! Tha...\n",
       "32  Positive  Thank you for hanging up everyone! It was fun....\n",
       "33  Positive  WE FINISHED BORDERLANDS 3 UPDATE YAS! Thank yo...\n",
       "34  Positive  WE FINISHED BORDERLANDS 3 AND FINALLY YAS! Tha...\n",
       "35  Positive  WE FINISHED BORDERLANDS 3 FINALLY YAS! Hey you...\n",
       "36  Negative  Man Gearbox really needs to fix this dissapoin...\n",
       "37  Negative  Man Gearbox really needs to fix these disappoi...\n",
       "38  Negative  Man Gearbox really needs to fix this disssapoi...\n",
       "39  Negative  Man Bethesda really needs to fix this dissapoi...\n",
       "40  Negative  Man Gearbox really needs to fix this dissapoin...\n",
       "41  Negative  <unk> Gearbox really time to fix this 10 drops...\n",
       "42   Neutral                   Check out this epic streamer!.  \n",
       "43   Neutral                     Check out this epic streamer!.\n",
       "44   Neutral                       Watch this epic striptease!.\n",
       "45   Neutral                      Check out our epic streamer!.\n",
       "46   Neutral                 Check out this big epic streamer!.\n",
       "47   Neutral                    Check<unk> this epic streamer!.\n",
       "48   Neutral  Blaming Sight for Tardiness! A little bit of b...\n",
       "49   Neutral  A bit of borderland. I was called to work tomo..."
      ],
      "text/html": [
       "<div>\n",
       "<style scoped>\n",
       "    .dataframe tbody tr th:only-of-type {\n",
       "        vertical-align: middle;\n",
       "    }\n",
       "\n",
       "    .dataframe tbody tr th {\n",
       "        vertical-align: top;\n",
       "    }\n",
       "\n",
       "    .dataframe thead th {\n",
       "        text-align: right;\n",
       "    }\n",
       "</style>\n",
       "<table border=\"1\" class=\"dataframe\">\n",
       "  <thead>\n",
       "    <tr style=\"text-align: right;\">\n",
       "      <th></th>\n",
       "      <th>sentiment</th>\n",
       "      <th>text</th>\n",
       "    </tr>\n",
       "  </thead>\n",
       "  <tbody>\n",
       "    <tr>\n",
       "      <th>0</th>\n",
       "      <td>Positive</td>\n",
       "      <td>im getting on borderlands and i will murder yo...</td>\n",
       "    </tr>\n",
       "    <tr>\n",
       "      <th>1</th>\n",
       "      <td>Positive</td>\n",
       "      <td>I am coming to the borders and I will kill you...</td>\n",
       "    </tr>\n",
       "    <tr>\n",
       "      <th>2</th>\n",
       "      <td>Positive</td>\n",
       "      <td>im getting on borderlands and i will kill you ...</td>\n",
       "    </tr>\n",
       "    <tr>\n",
       "      <th>3</th>\n",
       "      <td>Positive</td>\n",
       "      <td>im coming on borderlands and i will murder you...</td>\n",
       "    </tr>\n",
       "    <tr>\n",
       "      <th>4</th>\n",
       "      <td>Positive</td>\n",
       "      <td>im getting on borderlands 2 and i will murder ...</td>\n",
       "    </tr>\n",
       "    <tr>\n",
       "      <th>5</th>\n",
       "      <td>Positive</td>\n",
       "      <td>im getting into borderlands and i can murder y...</td>\n",
       "    </tr>\n",
       "    <tr>\n",
       "      <th>6</th>\n",
       "      <td>Positive</td>\n",
       "      <td>So I spent a few hours making something for fu...</td>\n",
       "    </tr>\n",
       "    <tr>\n",
       "      <th>7</th>\n",
       "      <td>Positive</td>\n",
       "      <td>So I spent a couple of hours doing something f...</td>\n",
       "    </tr>\n",
       "    <tr>\n",
       "      <th>8</th>\n",
       "      <td>Positive</td>\n",
       "      <td>So I spent a few hours doing something for fun...</td>\n",
       "    </tr>\n",
       "    <tr>\n",
       "      <th>9</th>\n",
       "      <td>Positive</td>\n",
       "      <td>So I spent a few hours making something for fu...</td>\n",
       "    </tr>\n",
       "    <tr>\n",
       "      <th>10</th>\n",
       "      <td>Positive</td>\n",
       "      <td>2010 So I spent a few hours making something f...</td>\n",
       "    </tr>\n",
       "    <tr>\n",
       "      <th>11</th>\n",
       "      <td>Positive</td>\n",
       "      <td>was</td>\n",
       "    </tr>\n",
       "    <tr>\n",
       "      <th>12</th>\n",
       "      <td>Neutral</td>\n",
       "      <td>Rock-Hard La Varlope, RARE &amp; POWERFUL, HANDSOM...</td>\n",
       "    </tr>\n",
       "    <tr>\n",
       "      <th>13</th>\n",
       "      <td>Neutral</td>\n",
       "      <td>Rock-Hard La Varlope, RARE &amp; POWERFUL, HANDSOM...</td>\n",
       "    </tr>\n",
       "    <tr>\n",
       "      <th>14</th>\n",
       "      <td>Neutral</td>\n",
       "      <td>Rock-Hard La Varlope, RARE &amp; POWERFUL, HANDSOM...</td>\n",
       "    </tr>\n",
       "    <tr>\n",
       "      <th>15</th>\n",
       "      <td>Neutral</td>\n",
       "      <td>Rock-Hard La Vita, RARE BUT POWERFUL, HANDSOME...</td>\n",
       "    </tr>\n",
       "    <tr>\n",
       "      <th>16</th>\n",
       "      <td>Neutral</td>\n",
       "      <td>Live Rock - Hard music La la Varlope, RARE &amp; t...</td>\n",
       "    </tr>\n",
       "    <tr>\n",
       "      <th>17</th>\n",
       "      <td>Neutral</td>\n",
       "      <td>I-Hard like me, RARE LONDON DE, HANDSOME 2011,...</td>\n",
       "    </tr>\n",
       "    <tr>\n",
       "      <th>18</th>\n",
       "      <td>Positive</td>\n",
       "      <td>that was the first borderlands session in a lo...</td>\n",
       "    </tr>\n",
       "    <tr>\n",
       "      <th>19</th>\n",
       "      <td>Positive</td>\n",
       "      <td>this was the first Borderlands session in a lo...</td>\n",
       "    </tr>\n",
       "    <tr>\n",
       "      <th>20</th>\n",
       "      <td>Positive</td>\n",
       "      <td>that was the first borderlands session in a lo...</td>\n",
       "    </tr>\n",
       "    <tr>\n",
       "      <th>21</th>\n",
       "      <td>Positive</td>\n",
       "      <td>that was the first borderlands session in a lo...</td>\n",
       "    </tr>\n",
       "    <tr>\n",
       "      <th>22</th>\n",
       "      <td>Positive</td>\n",
       "      <td>that I was the first real borderlands session ...</td>\n",
       "    </tr>\n",
       "    <tr>\n",
       "      <th>23</th>\n",
       "      <td>Positive</td>\n",
       "      <td>that was the first borderlands session in a ho...</td>\n",
       "    </tr>\n",
       "    <tr>\n",
       "      <th>24</th>\n",
       "      <td>Negative</td>\n",
       "      <td>the biggest dissappoinment in my life came out...</td>\n",
       "    </tr>\n",
       "    <tr>\n",
       "      <th>25</th>\n",
       "      <td>Negative</td>\n",
       "      <td>The biggest disappointment of my life came a y...</td>\n",
       "    </tr>\n",
       "    <tr>\n",
       "      <th>26</th>\n",
       "      <td>Negative</td>\n",
       "      <td>The biggest disappointment of my life came a y...</td>\n",
       "    </tr>\n",
       "    <tr>\n",
       "      <th>27</th>\n",
       "      <td>Negative</td>\n",
       "      <td>the biggest dissappoinment in my life coming o...</td>\n",
       "    </tr>\n",
       "    <tr>\n",
       "      <th>28</th>\n",
       "      <td>Negative</td>\n",
       "      <td>For the biggest male dissappoinment in my life...</td>\n",
       "    </tr>\n",
       "    <tr>\n",
       "      <th>29</th>\n",
       "      <td>Negative</td>\n",
       "      <td>the biggest dissappoinment in my life came bac...</td>\n",
       "    </tr>\n",
       "    <tr>\n",
       "      <th>30</th>\n",
       "      <td>Positive</td>\n",
       "      <td>WE FINISHED BORDERLANDS 3 FINALLY YAS! Thank y...</td>\n",
       "    </tr>\n",
       "    <tr>\n",
       "      <th>31</th>\n",
       "      <td>Positive</td>\n",
       "      <td>WE FINALLY FINALLY FIND BORDERLANDS 3 YES! Tha...</td>\n",
       "    </tr>\n",
       "    <tr>\n",
       "      <th>32</th>\n",
       "      <td>Positive</td>\n",
       "      <td>Thank you for hanging up everyone! It was fun....</td>\n",
       "    </tr>\n",
       "    <tr>\n",
       "      <th>33</th>\n",
       "      <td>Positive</td>\n",
       "      <td>WE FINISHED BORDERLANDS 3 UPDATE YAS! Thank yo...</td>\n",
       "    </tr>\n",
       "    <tr>\n",
       "      <th>34</th>\n",
       "      <td>Positive</td>\n",
       "      <td>WE FINISHED BORDERLANDS 3 AND FINALLY YAS! Tha...</td>\n",
       "    </tr>\n",
       "    <tr>\n",
       "      <th>35</th>\n",
       "      <td>Positive</td>\n",
       "      <td>WE FINISHED BORDERLANDS 3 FINALLY YAS! Hey you...</td>\n",
       "    </tr>\n",
       "    <tr>\n",
       "      <th>36</th>\n",
       "      <td>Negative</td>\n",
       "      <td>Man Gearbox really needs to fix this dissapoin...</td>\n",
       "    </tr>\n",
       "    <tr>\n",
       "      <th>37</th>\n",
       "      <td>Negative</td>\n",
       "      <td>Man Gearbox really needs to fix these disappoi...</td>\n",
       "    </tr>\n",
       "    <tr>\n",
       "      <th>38</th>\n",
       "      <td>Negative</td>\n",
       "      <td>Man Gearbox really needs to fix this disssapoi...</td>\n",
       "    </tr>\n",
       "    <tr>\n",
       "      <th>39</th>\n",
       "      <td>Negative</td>\n",
       "      <td>Man Bethesda really needs to fix this dissapoi...</td>\n",
       "    </tr>\n",
       "    <tr>\n",
       "      <th>40</th>\n",
       "      <td>Negative</td>\n",
       "      <td>Man Gearbox really needs to fix this dissapoin...</td>\n",
       "    </tr>\n",
       "    <tr>\n",
       "      <th>41</th>\n",
       "      <td>Negative</td>\n",
       "      <td>&lt;unk&gt; Gearbox really time to fix this 10 drops...</td>\n",
       "    </tr>\n",
       "    <tr>\n",
       "      <th>42</th>\n",
       "      <td>Neutral</td>\n",
       "      <td>Check out this epic streamer!.</td>\n",
       "    </tr>\n",
       "    <tr>\n",
       "      <th>43</th>\n",
       "      <td>Neutral</td>\n",
       "      <td>Check out this epic streamer!.</td>\n",
       "    </tr>\n",
       "    <tr>\n",
       "      <th>44</th>\n",
       "      <td>Neutral</td>\n",
       "      <td>Watch this epic striptease!.</td>\n",
       "    </tr>\n",
       "    <tr>\n",
       "      <th>45</th>\n",
       "      <td>Neutral</td>\n",
       "      <td>Check out our epic streamer!.</td>\n",
       "    </tr>\n",
       "    <tr>\n",
       "      <th>46</th>\n",
       "      <td>Neutral</td>\n",
       "      <td>Check out this big epic streamer!.</td>\n",
       "    </tr>\n",
       "    <tr>\n",
       "      <th>47</th>\n",
       "      <td>Neutral</td>\n",
       "      <td>Check&lt;unk&gt; this epic streamer!.</td>\n",
       "    </tr>\n",
       "    <tr>\n",
       "      <th>48</th>\n",
       "      <td>Neutral</td>\n",
       "      <td>Blaming Sight for Tardiness! A little bit of b...</td>\n",
       "    </tr>\n",
       "    <tr>\n",
       "      <th>49</th>\n",
       "      <td>Neutral</td>\n",
       "      <td>A bit of borderland. I was called to work tomo...</td>\n",
       "    </tr>\n",
       "  </tbody>\n",
       "</table>\n",
       "</div>"
      ]
     },
     "execution_count": 5,
     "metadata": {},
     "output_type": "execute_result"
    }
   ],
   "execution_count": 5
  },
  {
   "metadata": {
    "ExecuteTime": {
     "end_time": "2025-09-20T12:48:33.188921Z",
     "start_time": "2025-09-20T12:48:33.185918Z"
    }
   },
   "cell_type": "code",
   "source": "",
   "id": "450fa52e94a04eec",
   "outputs": [],
   "execution_count": null
  },
  {
   "metadata": {
    "ExecuteTime": {
     "end_time": "2025-09-20T13:16:25.457909Z",
     "start_time": "2025-09-20T13:08:11.897758Z"
    }
   },
   "cell_type": "code",
   "source": [
    "#stop the training\n",
    "from tensorflow.keras.preprocessing.sequence import pad_sequences\n",
    "X_train = pad_sequences(X_train, padding=\"post\", maxlen=256)\n",
    "X_test  = pad_sequences(X_test, padding=\"post\", maxlen=256)\n",
    "\n",
    "X_train = np.array(X_train)\n",
    "y_train = np.array(y_train)\n",
    "X_test = np.array(X_test)\n",
    "y_test = np.array(y_test)\n",
    "\n",
    "\n",
    "early_stop = tf.keras.callbacks.EarlyStopping(monitor='val_loss', patience=2, restore_best_weights=True)\n",
    "\n",
    "model.compile(loss=tf.keras.losses.SparseCategoricalCrossentropy(from_logits=True),\n",
    "              optimizer=tf.keras.optimizers.Adam(3 * 1e-4), # 3 * 1e-4 because 1e-4 was too slow\n",
    "              metrics=['accuracy'])\n",
    "\n",
    "# For the part 5 of the exercice, I tried this because i was stuck at a 0.8714 accuracy\n",
    "def scheduler(epoch, lr):\n",
    "    return lr * 0.7\n",
    "\n",
    "lr_scheduler = tf.keras.callbacks.LearningRateScheduler(scheduler)\n",
    "\n",
    "\n",
    "history = model.fit(X_train, y_train, epochs=10,validation_split=0.1, batch_size=30, shuffle=True, callbacks=[early_stop,lr_scheduler])"
   ],
   "id": "3a7a6f79c0dbdc5f",
   "outputs": [
    {
     "name": "stdout",
     "output_type": "stream",
     "text": [
      "Epoch 1/10\n",
      "\u001B[1m1793/1793\u001B[0m \u001B[32m━━━━━━━━━━━━━━━━━━━━\u001B[0m\u001B[37m\u001B[0m \u001B[1m180s\u001B[0m 99ms/step - accuracy: 0.9036 - loss: 0.2665 - val_accuracy: 0.8373 - val_loss: 0.4856 - learning_rate: 2.1000e-04\n",
      "Epoch 2/10\n",
      "\u001B[1m1793/1793\u001B[0m \u001B[32m━━━━━━━━━━━━━━━━━━━━\u001B[0m\u001B[37m\u001B[0m \u001B[1m161s\u001B[0m 90ms/step - accuracy: 0.9185 - loss: 0.2226 - val_accuracy: 0.8403 - val_loss: 0.5108 - learning_rate: 1.4700e-04\n",
      "Epoch 3/10\n",
      "\u001B[1m1793/1793\u001B[0m \u001B[32m━━━━━━━━━━━━━━━━━━━━\u001B[0m\u001B[37m\u001B[0m \u001B[1m153s\u001B[0m 85ms/step - accuracy: 0.9268 - loss: 0.1983 - val_accuracy: 0.8445 - val_loss: 0.5416 - learning_rate: 1.0290e-04\n"
     ]
    }
   ],
   "execution_count": 8
  },
  {
   "metadata": {},
   "cell_type": "markdown",
   "source": "It stopped at accuracy: 0.9268",
   "id": "daa349aee23c9491"
  },
  {
   "metadata": {
    "ExecuteTime": {
     "end_time": "2025-09-20T13:22:32.289443Z",
     "start_time": "2025-09-20T13:22:12.460365Z"
    }
   },
   "cell_type": "code",
   "source": [
    "# evaluating\n",
    "\n",
    "model.evaluate(X_test, y_test)\n",
    "\n",
    "pred = model.predict(X_test)\n",
    "\n"
   ],
   "id": "570f444ecbaea2af",
   "outputs": [
    {
     "name": "stdout",
     "output_type": "stream",
     "text": [
      "\u001B[1m467/467\u001B[0m \u001B[32m━━━━━━━━━━━━━━━━━━━━\u001B[0m\u001B[37m\u001B[0m \u001B[1m10s\u001B[0m 22ms/step - accuracy: 0.8336 - loss: 0.5068\n",
      "\u001B[1m467/467\u001B[0m \u001B[32m━━━━━━━━━━━━━━━━━━━━\u001B[0m\u001B[37m\u001B[0m \u001B[1m10s\u001B[0m 21ms/step\n"
     ]
    }
   ],
   "execution_count": 10
  },
  {
   "metadata": {},
   "cell_type": "markdown",
   "source": "And so i end up with an accuracy of 0.83 wich is really okey because that means a 83% of good respond wich I'm okey with",
   "id": "dbb9751b6e06878e"
  }
 ],
 "metadata": {
  "kernelspec": {
   "display_name": "Python 3",
   "language": "python",
   "name": "python3"
  },
  "language_info": {
   "codemirror_mode": {
    "name": "ipython",
    "version": 2
   },
   "file_extension": ".py",
   "mimetype": "text/x-python",
   "name": "python",
   "nbconvert_exporter": "python",
   "pygments_lexer": "ipython2",
   "version": "2.7.6"
  }
 },
 "nbformat": 4,
 "nbformat_minor": 5
}
