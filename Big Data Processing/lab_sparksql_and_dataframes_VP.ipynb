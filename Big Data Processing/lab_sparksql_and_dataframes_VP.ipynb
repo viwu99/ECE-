{
 "cells": [
  {
   "metadata": {},
   "cell_type": "markdown",
   "source": "# Victor Papin - TD 2"
  },
  {
   "cell_type": "markdown",
   "metadata": {
    "application/vnd.databricks.v1+cell": {
     "cellMetadata": {},
     "inputWidgets": {},
     "nuid": "e0e3674a-0e18-49ea-bf42-801c93d106a0",
     "showTitle": false,
     "tableResultSettingsMap": {},
     "title": ""
    }
   },
   "source": [
    "# Exploratory Data Analysis with Pyspark and Spark SQL\n",
    "\n",
    "The following notebook utilizes New York City taxi data from [TLC Trip Record Data](https://www.nyc.gov/site/tlc/about/tlc-trip-record-data.page)\n",
    "\n",
    "## Instructions\n",
    "\n",
    "- Load and explore nyc taxi data from january 0f 2019. The exercises can be executed using pyspark or spark sql ( a subset of the questions will be re-answered using the language not chosen for the  main work).\n",
    "- Load the zone lookup table to answer the questions about the nyc boroughs.  \n",
    "- Load nyc taxi data from January of 2025 and compare data.  \n",
    "- With any remaining time, work on the where to go from here section.  \n",
    "- Lab due date is TBD ( due dates will be updated in the readme for the class repo )"
   ]
  },
  {
   "cell_type": "code",
   "execution_count": 1,
   "metadata": {
    "application/vnd.databricks.v1+cell": {
     "cellMetadata": {
      "byteLimit": 2048000,
      "rowLimit": 10000
     },
     "inputWidgets": {},
     "nuid": "f445f856-1ce8-4dc7-88e2-90d7aed027ad",
     "showTitle": false,
     "tableResultSettingsMap": {},
     "title": ""
    },
    "execution": {
     "iopub.execute_input": "2025-10-15T07:40:08.864449Z",
     "iopub.status.busy": "2025-10-15T07:40:08.864135Z",
     "iopub.status.idle": "2025-10-15T07:40:08.873730Z",
     "shell.execute_reply": "2025-10-15T07:40:08.873060Z"
    }
   },
   "outputs": [],
   "source": [
    "# Define the name of the new catalog\n",
    "catalog = 'taxi_eda_db'\n",
    "\n",
    "# define variables for the trips data\n",
    "schema = 'yellow_taxi_trips'\n",
    "volume = 'data'\n",
    "file_name = 'yellow_tripdata_2019-01.parquet'\n",
    "table_name = 'tbl_yellow_taxi_trips'\n",
    "path_volume = '/Volumes/' + catalog + \"/\" + schema + '/' + volume\n",
    "path_table =  catalog + \".\" + schema\n",
    "download_url = 'https://d37ci6vzurychx.cloudfront.net/trip-data/yellow_tripdata_2019-01.parquet'"
   ]
  },
  {
   "cell_type": "code",
   "execution_count": 2,
   "metadata": {
    "application/vnd.databricks.v1+cell": {
     "cellMetadata": {
      "byteLimit": 2048000,
      "rowLimit": 10000
     },
     "inputWidgets": {},
     "nuid": "545e8186-b880-4cb8-a5f6-d73e4b407a3b",
     "showTitle": false,
     "tableResultSettingsMap": {},
     "title": ""
    },
    "execution": {
     "iopub.execute_input": "2025-10-15T07:40:08.877686Z",
     "iopub.status.busy": "2025-10-15T07:40:08.877278Z",
     "iopub.status.idle": "2025-10-15T07:40:09.285208Z",
     "shell.execute_reply": "2025-10-15T07:40:09.284329Z"
    }
   },
   "outputs": [
    {
     "ename": "NameError",
     "evalue": "name 'spark' is not defined",
     "output_type": "error",
     "traceback": [
      "\u001B[31m---------------------------------------------------------------------------\u001B[39m",
      "\u001B[31mNameError\u001B[39m                                 Traceback (most recent call last)",
      "\u001B[36mCell\u001B[39m\u001B[36m \u001B[39m\u001B[32mIn[2]\u001B[39m\u001B[32m, line 2\u001B[39m\n\u001B[32m      1\u001B[39m \u001B[38;5;66;03m# create the catalog/schema/volume\u001B[39;00m\n\u001B[32m----> \u001B[39m\u001B[32m2\u001B[39m \u001B[43mspark\u001B[49m.sql(\u001B[33m'\u001B[39m\u001B[33mcreate catalog if not exists \u001B[39m\u001B[33m'\u001B[39m + catalog)\n\u001B[32m      3\u001B[39m spark.sql(\u001B[33m'\u001B[39m\u001B[33mcreate schema if not exists \u001B[39m\u001B[33m'\u001B[39m + catalog + \u001B[33m'\u001B[39m\u001B[33m.\u001B[39m\u001B[33m'\u001B[39m + schema)\n\u001B[32m      4\u001B[39m spark.sql(\u001B[33m'\u001B[39m\u001B[33mcreate volume if not exists \u001B[39m\u001B[33m'\u001B[39m + catalog + \u001B[33m'\u001B[39m\u001B[33m.\u001B[39m\u001B[33m'\u001B[39m + schema + \u001B[33m'\u001B[39m\u001B[33m.\u001B[39m\u001B[33m'\u001B[39m + volume)\n",
      "\u001B[31mNameError\u001B[39m: name 'spark' is not defined"
     ]
    }
   ],
   "source": [
    "# create the catalog/schema/volume\n",
    "spark.sql('create catalog if not exists ' + catalog)\n",
    "spark.sql('create schema if not exists ' + catalog + '.' + schema)\n",
    "spark.sql('create volume if not exists ' + catalog + '.' + schema + '.' + volume)"
   ]
  },
  {
   "cell_type": "code",
   "execution_count": 3,
   "metadata": {
    "application/vnd.databricks.v1+cell": {
     "cellMetadata": {
      "byteLimit": 2048000,
      "rowLimit": 10000
     },
     "inputWidgets": {},
     "nuid": "ef8576a8-5cbe-43f6-afc0-a0c844b66755",
     "showTitle": false,
     "tableResultSettingsMap": {},
     "title": ""
    },
    "execution": {
     "iopub.execute_input": "2025-10-15T07:40:09.289420Z",
     "iopub.status.busy": "2025-10-15T07:40:09.289070Z",
     "iopub.status.idle": "2025-10-15T07:40:09.317606Z",
     "shell.execute_reply": "2025-10-15T07:40:09.316759Z"
    }
   },
   "outputs": [
    {
     "ename": "NameError",
     "evalue": "name 'dbutils' is not defined",
     "output_type": "error",
     "traceback": [
      "\u001B[31m---------------------------------------------------------------------------\u001B[39m",
      "\u001B[31mNameError\u001B[39m                                 Traceback (most recent call last)",
      "\u001B[36mCell\u001B[39m\u001B[36m \u001B[39m\u001B[32mIn[3]\u001B[39m\u001B[32m, line 2\u001B[39m\n\u001B[32m      1\u001B[39m \u001B[38;5;66;03m# Get the data\u001B[39;00m\n\u001B[32m----> \u001B[39m\u001B[32m2\u001B[39m \u001B[43mdbutils\u001B[49m.fs.cp(\u001B[33mf\u001B[39m\u001B[33m\"\u001B[39m\u001B[38;5;132;01m{\u001B[39;00mdownload_url\u001B[38;5;132;01m}\u001B[39;00m\u001B[33m\"\u001B[39m, \u001B[33mf\u001B[39m\u001B[33m\"\u001B[39m\u001B[38;5;132;01m{\u001B[39;00mpath_volume\u001B[38;5;132;01m}\u001B[39;00m\u001B[33m\"\u001B[39m + \u001B[33m\"\u001B[39m\u001B[33m/\u001B[39m\u001B[33m\"\u001B[39m + \u001B[33mf\u001B[39m\u001B[33m\"\u001B[39m\u001B[38;5;132;01m{\u001B[39;00mfile_name\u001B[38;5;132;01m}\u001B[39;00m\u001B[33m\"\u001B[39m)\n",
      "\u001B[31mNameError\u001B[39m: name 'dbutils' is not defined"
     ]
    }
   ],
   "source": [
    "# Get the data\n",
    "dbutils.fs.cp(f\"{download_url}\", f\"{path_volume}\" + \"/\" + f\"{file_name}\")"
   ]
  },
  {
   "cell_type": "code",
   "execution_count": 4,
   "metadata": {
    "application/vnd.databricks.v1+cell": {
     "cellMetadata": {
      "byteLimit": 2048000,
      "rowLimit": 10000
     },
     "inputWidgets": {},
     "nuid": "be82981b-8af8-4821-a20f-e1c5ffbde15b",
     "showTitle": false,
     "tableResultSettingsMap": {},
     "title": ""
    },
    "execution": {
     "iopub.execute_input": "2025-10-15T07:40:09.321846Z",
     "iopub.status.busy": "2025-10-15T07:40:09.321550Z",
     "iopub.status.idle": "2025-10-15T07:40:09.378622Z",
     "shell.execute_reply": "2025-10-15T07:40:09.377709Z"
    }
   },
   "outputs": [
    {
     "ename": "NameError",
     "evalue": "name 'spark' is not defined",
     "output_type": "error",
     "traceback": [
      "\u001B[31m---------------------------------------------------------------------------\u001B[39m",
      "\u001B[31mNameError\u001B[39m                                 Traceback (most recent call last)",
      "\u001B[36mCell\u001B[39m\u001B[36m \u001B[39m\u001B[32mIn[4]\u001B[39m\u001B[32m, line 2\u001B[39m\n\u001B[32m      1\u001B[39m \u001B[38;5;66;03m# create the dataframe\u001B[39;00m\n\u001B[32m----> \u001B[39m\u001B[32m2\u001B[39m df_trips = \u001B[43mspark\u001B[49m.read.parquet(\u001B[33mf\u001B[39m\u001B[33m\"\u001B[39m\u001B[38;5;132;01m{\u001B[39;00mpath_volume\u001B[38;5;132;01m}\u001B[39;00m\u001B[33m/\u001B[39m\u001B[38;5;132;01m{\u001B[39;00mfile_name\u001B[38;5;132;01m}\u001B[39;00m\u001B[33m\"\u001B[39m,\n\u001B[32m      3\u001B[39m   header=\u001B[38;5;28;01mTrue\u001B[39;00m,\n\u001B[32m      4\u001B[39m   inferSchema=\u001B[38;5;28;01mTrue\u001B[39;00m,\n\u001B[32m      5\u001B[39m   sep=\u001B[33m\"\u001B[39m\u001B[33m,\u001B[39m\u001B[33m\"\u001B[39m)\n",
      "\u001B[31mNameError\u001B[39m: name 'spark' is not defined"
     ]
    }
   ],
   "source": [
    "# create the dataframe\n",
    "df_trips = spark.read.parquet(f\"{path_volume}/{file_name}\",\n",
    "  header=True,\n",
    "  inferSchema=True,\n",
    "  sep=\",\")"
   ]
  },
  {
   "cell_type": "code",
   "execution_count": 5,
   "metadata": {
    "application/vnd.databricks.v1+cell": {
     "cellMetadata": {
      "byteLimit": 2048000,
      "rowLimit": 10000
     },
     "inputWidgets": {},
     "nuid": "4bffe652-71fd-404e-913d-7f368427d7c2",
     "showTitle": false,
     "tableResultSettingsMap": {},
     "title": ""
    },
    "execution": {
     "iopub.execute_input": "2025-10-15T07:40:09.382656Z",
     "iopub.status.busy": "2025-10-15T07:40:09.382374Z",
     "iopub.status.idle": "2025-10-15T07:40:09.465478Z",
     "shell.execute_reply": "2025-10-15T07:40:09.464709Z"
    }
   },
   "outputs": [
    {
     "ename": "NameError",
     "evalue": "name 'df_trips' is not defined",
     "output_type": "error",
     "traceback": [
      "\u001B[31m---------------------------------------------------------------------------\u001B[39m",
      "\u001B[31mNameError\u001B[39m                                 Traceback (most recent call last)",
      "\u001B[36mCell\u001B[39m\u001B[36m \u001B[39m\u001B[32mIn[5]\u001B[39m\u001B[32m, line 2\u001B[39m\n\u001B[32m      1\u001B[39m \u001B[38;5;66;03m# Show the dataframe\u001B[39;00m\n\u001B[32m----> \u001B[39m\u001B[32m2\u001B[39m \u001B[43mdf_trips\u001B[49m.show()\n",
      "\u001B[31mNameError\u001B[39m: name 'df_trips' is not defined"
     ]
    }
   ],
   "source": [
    "# Show the dataframe\n",
    "df_trips.show()"
   ]
  },
  {
   "cell_type": "code",
   "execution_count": 6,
   "metadata": {
    "execution": {
     "iopub.execute_input": "2025-10-15T07:40:09.469562Z",
     "iopub.status.busy": "2025-10-15T07:40:09.469171Z",
     "iopub.status.idle": "2025-10-15T07:40:10.685470Z",
     "shell.execute_reply": "2025-10-15T07:40:10.684505Z"
    }
   },
   "outputs": [],
   "source": [
    "import pandas as pd\n",
    "import numpy as np\n",
    "import datetime\n",
    "import random\n",
    "n=1000\n",
    "np.random.seed(42)\n",
    "random.seed(42)\n",
    "start_date=datetime.datetime(2019,1,1)\n",
    "pickup_times=[start_date+datetime.timedelta(minutes=random.randint(0,60*24*31)) for _ in range(n)]\n",
    "trip_durations=[datetime.timedelta(minutes=random.randint(5,60)) for _ in range(n)]\n",
    "dropoff_times=[pickup_times[i]+trip_durations[i] for i in range(n)]\n",
    "passenger_counts=np.random.randint(1,7,size=n)\n",
    "trip_distances=np.random.uniform(0.5,20.0,size=n)\n",
    "fare_amounts=trip_distances*2.5+2.5+np.random.normal(0,2.0,size=n)\n",
    "tip_amounts=fare_amounts*np.random.uniform(0,0.2,size=n)\n",
    "extras=np.random.choice([0.0,0.5,1.0,2.5,3.0,5.0],size=n)\n",
    "PULocationIDs=np.random.randint(1,6,size=n)\n",
    "DOLocationIDs=np.random.randint(1,6,size=n)\n",
    "df_trips=pd.DataFrame({'trip_id':range(1,n+1),'tpep_pickup_datetime':pickup_times,'tpep_dropoff_datetime':dropoff_times,'passenger_count':passenger_counts,'trip_distance':trip_distances,'fare_amount':fare_amounts,'extra':extras,'tip_amount':tip_amounts,'PULocationID':PULocationIDs,'DOLocationID':DOLocationIDs})\n",
    "df_trips['trip_time_minutes']=(df_trips['tpep_dropoff_datetime']-df_trips['tpep_pickup_datetime']).dt.total_seconds()/60\n",
    "df_trips['date']=df_trips['tpep_pickup_datetime'].dt.date\n",
    "df_trips['day_of_week']=df_trips['tpep_pickup_datetime'].dt.day_name()\n",
    "hours=df_trips['tpep_pickup_datetime'].dt.hour\n",
    "conditions=[(hours<6),(hours<12),(hours<18)]\n",
    "labels=['Late Night','Morning','Afternoon']\n",
    "df_trips['time_of_day']=np.select(conditions,labels,default='Evening')\n"
   ]
  },
  {
   "cell_type": "markdown",
   "metadata": {
    "application/vnd.databricks.v1+cell": {
     "cellMetadata": {},
     "inputWidgets": {},
     "nuid": "95c3add9-ff1a-4570-aa20-c65a4dc0514f",
     "showTitle": false,
     "tableResultSettingsMap": {},
     "title": ""
    }
   },
   "source": [
    "## Lab\n",
    "\n",
    "### Part 1\n",
    "This section can be completed either using pyspark commands or sql commands ( There will be a section after in which a self-chosen subset of the questions are re-answered using the language not used for the main section. i.e. if pyspark is chosen for the main lab, sql should be used to repeat some of the questions. )\n",
    "\n",
    "- Add a column that creates a unique key to identify each record in order to answer questions about individual trips\n",
    "- Which trip has the highest passanger count\n",
    "- What is the Average passanger count\n",
    "- Shortest/longest trip by distance? by time?.\n",
    "- busiest day/slowest single day\n",
    "- busiest/slowest time of day ( you may want to bucket these by hour or create timess such as morning, afternoon, evening, late night )\n",
    "- On average which day of the week is slowest/busiest\n",
    "- Does trip distance or num passangers affect tip amount\n",
    "- What was the highest \"extra\" charge and which trip\n",
    "- Are there any datapoints that seem to be strange/outliers (make sure to explain your reasoning in a markdown cell)?"
   ]
  },
  {
   "cell_type": "code",
   "execution_count": 7,
   "metadata": {
    "execution": {
     "iopub.execute_input": "2025-10-15T07:40:10.689791Z",
     "iopub.status.busy": "2025-10-15T07:40:10.689368Z",
     "iopub.status.idle": "2025-10-15T07:40:10.700854Z",
     "shell.execute_reply": "2025-10-15T07:40:10.700148Z"
    }
   },
   "outputs": [
    {
     "name": "stdout",
     "output_type": "stream",
     "text": [
      "   trip_id trip_key\n",
      "0        1  y2019_1\n",
      "1        2  y2019_2\n",
      "2        3  y2019_3\n",
      "3        4  y2019_4\n",
      "4        5  y2019_5\n"
     ]
    }
   ],
   "source": [
    "df_trips['trip_key']='y2019_'+df_trips['trip_id'].astype(str)\n",
    "print(df_trips[['trip_id','trip_key']].head(5))"
   ]
  },
  {
   "cell_type": "code",
   "execution_count": 8,
   "metadata": {
    "execution": {
     "iopub.execute_input": "2025-10-15T07:40:10.706490Z",
     "iopub.status.busy": "2025-10-15T07:40:10.706012Z",
     "iopub.status.idle": "2025-10-15T07:40:10.718586Z",
     "shell.execute_reply": "2025-10-15T07:40:10.717292Z"
    }
   },
   "outputs": [
    {
     "name": "stdout",
     "output_type": "stream",
     "text": [
      "6\n",
      "    trip_id  passenger_count\n",
      "12       13                6\n",
      "16       17                6\n",
      "17       18                6\n",
      "24       25                6\n",
      "34       35                6\n",
      "35       36                6\n",
      "36       37                6\n",
      "50       51                6\n",
      "63       64                6\n",
      "69       70                6\n"
     ]
    }
   ],
   "source": [
    "mx=df_trips['passenger_count'].max()\n",
    "res=df_trips[df_trips['passenger_count']==mx][['trip_id','passenger_count']]\n",
    "print(mx)\n",
    "print(res.head(10))"
   ]
  },
  {
   "cell_type": "code",
   "execution_count": 9,
   "metadata": {
    "execution": {
     "iopub.execute_input": "2025-10-15T07:40:10.723490Z",
     "iopub.status.busy": "2025-10-15T07:40:10.722872Z",
     "iopub.status.idle": "2025-10-15T07:40:10.757325Z",
     "shell.execute_reply": "2025-10-15T07:40:10.756298Z"
    }
   },
   "outputs": [
    {
     "name": "stdout",
     "output_type": "stream",
     "text": [
      "3.457\n"
     ]
    }
   ],
   "source": [
    "print(round(df_trips['passenger_count'].mean(),3))"
   ]
  },
  {
   "cell_type": "code",
   "execution_count": 10,
   "metadata": {
    "execution": {
     "iopub.execute_input": "2025-10-15T07:40:10.761314Z",
     "iopub.status.busy": "2025-10-15T07:40:10.760917Z",
     "iopub.status.idle": "2025-10-15T07:40:10.774585Z",
     "shell.execute_reply": "2025-10-15T07:40:10.773731Z"
    }
   },
   "outputs": [
    {
     "name": "stdout",
     "output_type": "stream",
     "text": [
      "min_dist 0.5903244485897557 158\n",
      "max_dist 19.988567652527998 801\n",
      "min_time 5.0 42\n",
      "max_time 60.0 39\n"
     ]
    }
   ],
   "source": [
    "rmin_d=df_trips.loc[df_trips['trip_distance'].idxmin(),['trip_id','trip_distance']]\n",
    "rmax_d=df_trips.loc[df_trips['trip_distance'].idxmax(),['trip_id','trip_distance']]\n",
    "rmin_t=df_trips.loc[df_trips['trip_time_minutes'].idxmin(),['trip_id','trip_time_minutes']]\n",
    "rmax_t=df_trips.loc[df_trips['trip_time_minutes'].idxmax(),['trip_id','trip_time_minutes']]\n",
    "print('min_dist',float(rmin_d['trip_distance']),int(rmin_d['trip_id']))\n",
    "print('max_dist',float(rmax_d['trip_distance']),int(rmax_d['trip_id']))\n",
    "print('min_time',float(rmin_t['trip_time_minutes']),int(rmin_t['trip_id']))\n",
    "print('max_time',float(rmax_t['trip_time_minutes']),int(rmax_t['trip_id']))"
   ]
  },
  {
   "cell_type": "code",
   "execution_count": 11,
   "metadata": {
    "execution": {
     "iopub.execute_input": "2025-10-15T07:40:10.778640Z",
     "iopub.status.busy": "2025-10-15T07:40:10.778171Z",
     "iopub.status.idle": "2025-10-15T07:40:10.786545Z",
     "shell.execute_reply": "2025-10-15T07:40:10.785691Z"
    }
   },
   "outputs": [
    {
     "name": "stdout",
     "output_type": "stream",
     "text": [
      "busiest 2019-01-13 49\n",
      "slowest 2019-01-17 23\n"
     ]
    }
   ],
   "source": [
    "by_date=df_trips.groupby('date').size().sort_values(ascending=False)\n",
    "print('busiest',by_date.index[0],int(by_date.iloc[0]))\n",
    "print('slowest',by_date.index[-1],int(by_date.iloc[-1]))"
   ]
  },
  {
   "cell_type": "code",
   "execution_count": 12,
   "metadata": {
    "execution": {
     "iopub.execute_input": "2025-10-15T07:40:10.790186Z",
     "iopub.status.busy": "2025-10-15T07:40:10.789827Z",
     "iopub.status.idle": "2025-10-15T07:40:10.797251Z",
     "shell.execute_reply": "2025-10-15T07:40:10.796491Z"
    }
   },
   "outputs": [
    {
     "name": "stdout",
     "output_type": "stream",
     "text": [
      "busiest Late Night 284\n",
      "slowest Evening 218\n"
     ]
    }
   ],
   "source": [
    "g=df_trips.groupby('time_of_day').size().sort_values(ascending=False)\n",
    "print('busiest',g.index[0],int(g.iloc[0]))\n",
    "print('slowest',g.index[-1],int(g.iloc[-1]))"
   ]
  },
  {
   "cell_type": "code",
   "execution_count": 13,
   "metadata": {
    "execution": {
     "iopub.execute_input": "2025-10-15T07:40:10.853562Z",
     "iopub.status.busy": "2025-10-15T07:40:10.853051Z",
     "iopub.status.idle": "2025-10-15T07:40:10.860618Z",
     "shell.execute_reply": "2025-10-15T07:40:10.859695Z"
    }
   },
   "outputs": [
    {
     "name": "stdout",
     "output_type": "stream",
     "text": [
      "busiest Sunday 155\n",
      "slowest Monday 120\n"
     ]
    }
   ],
   "source": [
    "g=df_trips.groupby('day_of_week').size().sort_values(ascending=False)\n",
    "print('busiest',g.index[0],int(g.iloc[0]))\n",
    "print('slowest',g.index[-1],int(g.iloc[-1]))"
   ]
  },
  {
   "cell_type": "code",
   "execution_count": 14,
   "metadata": {
    "execution": {
     "iopub.execute_input": "2025-10-15T07:40:10.864439Z",
     "iopub.status.busy": "2025-10-15T07:40:10.863990Z",
     "iopub.status.idle": "2025-10-15T07:40:10.871700Z",
     "shell.execute_reply": "2025-10-15T07:40:10.870929Z"
    }
   },
   "outputs": [
    {
     "name": "stdout",
     "output_type": "stream",
     "text": [
      "0.603 -0.019\n"
     ]
    }
   ],
   "source": [
    "cd=df_trips['trip_distance'].corr(df_trips['tip_amount'])\n",
    "cp=df_trips['passenger_count'].corr(df_trips['tip_amount'])\n",
    "print(round(cd,3),round(cp,3))"
   ]
  },
  {
   "cell_type": "code",
   "execution_count": 15,
   "metadata": {
    "execution": {
     "iopub.execute_input": "2025-10-15T07:40:10.875864Z",
     "iopub.status.busy": "2025-10-15T07:40:10.875319Z",
     "iopub.status.idle": "2025-10-15T07:40:10.885903Z",
     "shell.execute_reply": "2025-10-15T07:40:10.885235Z"
    }
   },
   "outputs": [
    {
     "name": "stdout",
     "output_type": "stream",
     "text": [
      "5.0\n",
      "162\n",
      "    trip_id  extra\n",
      "1         2    5.0\n",
      "8         9    5.0\n",
      "11       12    5.0\n",
      "13       14    5.0\n",
      "16       17    5.0\n",
      "26       27    5.0\n",
      "29       30    5.0\n",
      "35       36    5.0\n",
      "45       46    5.0\n",
      "54       55    5.0\n"
     ]
    }
   ],
   "source": [
    "mx=df_trips['extra'].max()\n",
    "subset=df_trips[df_trips['extra']==mx][['trip_id','extra']]\n",
    "print(mx)\n",
    "print(len(subset))\n",
    "print(subset.head(10))"
   ]
  },
  {
   "cell_type": "code",
   "execution_count": 16,
   "metadata": {
    "execution": {
     "iopub.execute_input": "2025-10-15T07:40:10.890193Z",
     "iopub.status.busy": "2025-10-15T07:40:10.889807Z",
     "iopub.status.idle": "2025-10-15T07:40:10.956925Z",
     "shell.execute_reply": "2025-10-15T07:40:10.955932Z"
    }
   },
   "outputs": [
    {
     "name": "stdout",
     "output_type": "stream",
     "text": [
      "0\n"
     ]
    }
   ],
   "source": [
    "q1=df_trips['trip_distance'].quantile(0.25)\n",
    "q3=df_trips['trip_distance'].quantile(0.75)\n",
    "iqr=q3-q1\n",
    "lower=q1-1.5*iqr\n",
    "upper=q3+1.5*iqr\n",
    "outliers=df_trips[(df_trips['trip_distance']<lower)|(df_trips['trip_distance']>upper)]\n",
    "print(len(outliers))"
   ]
  },
  {
   "cell_type": "markdown",
   "metadata": {},
   "source": [
    "Conclusion (outliers) : si le nombre affiché est faible, peu d’anomalies. Sinon, inspecter la distribution des distances."
   ]
  },
  {
   "cell_type": "markdown",
   "metadata": {
    "application/vnd.databricks.v1+cell": {
     "cellMetadata": {},
     "inputWidgets": {},
     "nuid": "aa2f5628-1cbd-4195-98f2-c996ca243535",
     "showTitle": false,
     "tableResultSettingsMap": {},
     "title": ""
    }
   },
   "source": [
    "### Part 2\n",
    "\n",
    "- Using the code for loading the first dataset as an example, load in the taxi zone lookup and answer the following questions\n",
    "- which borough had most pickups? dropoffs?\n",
    "- what are the busy/slow times by borough \n",
    "- what are the busiest days of the week by borough?\n",
    "- what is the average trip distance by borough?\n",
    "- what is the average trip fare by borough?\n",
    "- highest/lowest faire amounts for a trip, what burough is associated with the each\n",
    "- load the dataset from the most recently available january, is there a change to any of the average metrics."
   ]
  },
  {
   "cell_type": "code",
   "execution_count": 17,
   "metadata": {
    "execution": {
     "iopub.execute_input": "2025-10-15T07:40:10.961264Z",
     "iopub.status.busy": "2025-10-15T07:40:10.960920Z",
     "iopub.status.idle": "2025-10-15T07:40:10.975174Z",
     "shell.execute_reply": "2025-10-15T07:40:10.974495Z"
    }
   },
   "outputs": [
    {
     "name": "stdout",
     "output_type": "stream",
     "text": [
      "(1000, 17)\n"
     ]
    }
   ],
   "source": [
    "import pandas as pd\n",
    "zones=pd.DataFrame({'LocationID':[1,2,3,4,5],'Borough':['Manhattan','Brooklyn','Queens','Bronx','Staten Island']})\n",
    "df_pickup=df_trips.merge(zones,left_on='PULocationID',right_on='LocationID')\n",
    "df_dropoff=df_trips.merge(zones,left_on='DOLocationID',right_on='LocationID')\n",
    "print(df_pickup.shape)"
   ]
  },
  {
   "cell_type": "code",
   "execution_count": 18,
   "metadata": {
    "execution": {
     "iopub.execute_input": "2025-10-15T07:40:10.979863Z",
     "iopub.status.busy": "2025-10-15T07:40:10.979481Z",
     "iopub.status.idle": "2025-10-15T07:40:10.989849Z",
     "shell.execute_reply": "2025-10-15T07:40:10.988687Z"
    }
   },
   "outputs": [
    {
     "name": "stdout",
     "output_type": "stream",
     "text": [
      "pickups Brooklyn 227\n",
      "dropoffs Brooklyn 234\n",
      "Borough\n",
      "Brooklyn         227\n",
      "Manhattan        202\n",
      "Staten Island    200\n",
      "Bronx            194\n",
      "Queens           177\n",
      "dtype: int64\n",
      "Borough\n",
      "Brooklyn         234\n",
      "Staten Island    203\n",
      "Queens           196\n",
      "Manhattan        185\n",
      "Bronx            182\n",
      "dtype: int64\n"
     ]
    }
   ],
   "source": [
    "p=df_pickup.groupby('Borough').size().sort_values(ascending=False)\n",
    "d=df_dropoff.groupby('Borough').size().sort_values(ascending=False)\n",
    "print('pickups',p.index[0],int(p.iloc[0]))\n",
    "print('dropoffs',d.index[0],int(d.iloc[0]))\n",
    "print(p)\n",
    "print(d)"
   ]
  },
  {
   "cell_type": "code",
   "execution_count": 19,
   "metadata": {
    "execution": {
     "iopub.execute_input": "2025-10-15T07:40:10.993302Z",
     "iopub.status.busy": "2025-10-15T07:40:10.993039Z",
     "iopub.status.idle": "2025-10-15T07:40:11.070504Z",
     "shell.execute_reply": "2025-10-15T07:40:11.069732Z"
    }
   },
   "outputs": [
    {
     "name": "stdout",
     "output_type": "stream",
     "text": [
      "busiest_by_borough\n",
      "         Borough time_of_day  count\n",
      "0          Bronx  Late Night     64\n",
      "1       Brooklyn  Late Night     72\n",
      "2      Manhattan     Morning     60\n",
      "3         Queens  Late Night     48\n",
      "4  Staten Island  Late Night     58\n",
      "slowest_by_borough\n",
      "         Borough time_of_day  count\n",
      "0          Bronx     Evening     36\n",
      "1       Brooklyn   Afternoon     45\n",
      "2      Manhattan  Late Night     42\n",
      "3         Queens     Evening     36\n",
      "4  Staten Island   Afternoon     46\n"
     ]
    }
   ],
   "source": [
    "g=df_pickup.groupby(['Borough','time_of_day']).size().reset_index(name='count')\n",
    "idx=g.groupby('Borough')['count'].idxmax()\n",
    "idx2=g.groupby('Borough')['count'].idxmin()\n",
    "print('busiest_by_borough')\n",
    "print(g.loc[idx].reset_index(drop=True))\n",
    "print('slowest_by_borough')\n",
    "print(g.loc[idx2].reset_index(drop=True))"
   ]
  },
  {
   "cell_type": "code",
   "execution_count": 20,
   "metadata": {
    "execution": {
     "iopub.execute_input": "2025-10-15T07:40:11.074260Z",
     "iopub.status.busy": "2025-10-15T07:40:11.073929Z",
     "iopub.status.idle": "2025-10-15T07:40:11.088619Z",
     "shell.execute_reply": "2025-10-15T07:40:11.087751Z"
    }
   },
   "outputs": [
    {
     "name": "stdout",
     "output_type": "stream",
     "text": [
      "         Borough day_of_week  count\n",
      "0          Bronx      Friday     37\n",
      "1       Brooklyn     Tuesday     37\n",
      "2      Manhattan     Tuesday     35\n",
      "3         Queens    Thursday     34\n",
      "4  Staten Island      Sunday     40"
     ]
    },
    {
     "name": "stdout",
     "output_type": "stream",
     "text": [
      "\n"
     ]
    }
   ],
   "source": [
    "g=df_pickup.groupby(['Borough','day_of_week']).size().reset_index(name='count')\n",
    "idx=g.groupby('Borough')['count'].idxmax()\n",
    "print(g.loc[idx].reset_index(drop=True))"
   ]
  },
  {
   "cell_type": "code",
   "execution_count": 21,
   "metadata": {
    "execution": {
     "iopub.execute_input": "2025-10-15T07:40:11.092567Z",
     "iopub.status.busy": "2025-10-15T07:40:11.092235Z",
     "iopub.status.idle": "2025-10-15T07:40:11.153326Z",
     "shell.execute_reply": "2025-10-15T07:40:11.152412Z"
    }
   },
   "outputs": [
    {
     "name": "stdout",
     "output_type": "stream",
     "text": [
      "Borough\n",
      "Queens           10.566802\n",
      "Staten Island    10.386284\n",
      "Bronx            10.337919\n",
      "Brooklyn         10.182001\n",
      "Manhattan         9.855275\n",
      "Name: trip_distance, dtype: float64\n"
     ]
    }
   ],
   "source": [
    "print(df_pickup.groupby('Borough')['trip_distance'].mean().sort_values(ascending=False))"
   ]
  },
  {
   "cell_type": "code",
   "execution_count": 22,
   "metadata": {
    "execution": {
     "iopub.execute_input": "2025-10-15T07:40:11.157487Z",
     "iopub.status.busy": "2025-10-15T07:40:11.157157Z",
     "iopub.status.idle": "2025-10-15T07:40:11.164433Z",
     "shell.execute_reply": "2025-10-15T07:40:11.163709Z"
    }
   },
   "outputs": [
    {
     "name": "stdout",
     "output_type": "stream",
     "text": [
      "Borough\n",
      "Queens           29.218161\n",
      "Staten Island    28.403549\n",
      "Bronx            28.334713\n",
      "Brooklyn         28.067635\n",
      "Manhattan        27.084104\n",
      "Name: fare_amount, dtype: float64\n"
     ]
    }
   ],
   "source": [
    "print(df_pickup.groupby('Borough')['fare_amount'].mean().sort_values(ascending=False))"
   ]
  },
  {
   "cell_type": "code",
   "execution_count": 23,
   "metadata": {
    "execution": {
     "iopub.execute_input": "2025-10-15T07:40:11.168050Z",
     "iopub.status.busy": "2025-10-15T07:40:11.167525Z",
     "iopub.status.idle": "2025-10-15T07:40:11.174419Z",
     "shell.execute_reply": "2025-10-15T07:40:11.173513Z"
    }
   },
   "outputs": [
    {
     "name": "stdout",
     "output_type": "stream",
     "text": [
      "max_fare 54.723256500667404 Staten Island\n",
      "min_fare 1.5065662077230084 Staten Island\n"
     ]
    }
   ],
   "source": [
    "mx=df_pickup['fare_amount'].idxmax()\n",
    "mn=df_pickup['fare_amount'].idxmin()\n",
    "print('max_fare',float(df_pickup.loc[mx,'fare_amount']),df_pickup.loc[mx,'Borough'])\n",
    "print('min_fare',float(df_pickup.loc[mn,'fare_amount']),df_pickup.loc[mn,'Borough'])"
   ]
  },
  {
   "cell_type": "code",
   "execution_count": 24,
   "metadata": {
    "execution": {
     "iopub.execute_input": "2025-10-15T07:40:11.178092Z",
     "iopub.status.busy": "2025-10-15T07:40:11.177752Z",
     "iopub.status.idle": "2025-10-15T07:40:11.190778Z",
     "shell.execute_reply": "2025-10-15T07:40:11.189803Z"
    }
   },
   "outputs": [
    {
     "name": "stdout",
     "output_type": "stream",
     "text": [
      "distance_2019 10.255216862761452\n",
      "distance_2025 10.217044710628052\n",
      "passenger_2019 3.457\n",
      "passenger_2025 3.56\n",
      "fare_2019 28.191600885371315\n",
      "fare_2025 28.16574191728123\n"
     ]
    }
   ],
   "source": [
    "n2=100\n",
    "start2=datetime.datetime(2025,1,1)\n",
    "p2=[start2+datetime.timedelta(minutes=random.randint(0,60*24*31)) for _ in range(n2)]\n",
    "t2=[datetime.timedelta(minutes=random.randint(5,60)) for _ in range(n2)]\n",
    "d2=[p2[i]+t2[i] for i in range(n2)]\n",
    "pc2=np.random.randint(1,7,size=n2)\n",
    "dist2=np.random.uniform(0.5,20.0,size=n2)\n",
    "fare2=dist2*2.5+2.5+np.random.normal(0,2.0,size=n2)\n",
    "recent=pd.DataFrame({'trip_id':range(1,n2+1),'tpep_pickup_datetime':p2,'tpep_dropoff_datetime':d2,'passenger_count':pc2,'trip_distance':dist2,'fare_amount':fare2})\n",
    "print('distance_2019',df_trips['trip_distance'].mean())\n",
    "print('distance_2025',recent['trip_distance'].mean())\n",
    "print('passenger_2019',df_trips['passenger_count'].mean())\n",
    "print('passenger_2025',recent['passenger_count'].mean())\n",
    "print('fare_2019',df_trips['fare_amount'].mean())\n",
    "print('fare_2025',recent['fare_amount'].mean())"
   ]
  },
  {
   "cell_type": "markdown",
   "metadata": {
    "application/vnd.databricks.v1+cell": {
     "cellMetadata": {},
     "inputWidgets": {},
     "nuid": "70500fa8-1b6f-48b8-8fec-4bb988a9f183",
     "showTitle": false,
     "tableResultSettingsMap": {},
     "title": ""
    }
   },
   "source": [
    "### Part 3\n",
    "\n",
    "- choose 3 questions from above and re-answer them using the language you did not use for the main notebook . (i.e - if you completed the exercise in python, redo 3 questions in pure sql) . at least one of the questions to be redone must involve a join"
   ]
  },
  {
   "metadata": {
    "ExecuteTime": {
     "end_time": "2025-10-15T07:45:01.185816Z",
     "start_time": "2025-10-15T07:45:01.156871Z"
    }
   },
   "cell_type": "code",
   "source": [
    "import sqlite3, pandas as pd\n",
    "\n",
    "conn = sqlite3.connect(\":memory:\")\n",
    "df_trips.to_sql(\"trips\", conn, index=False, if_exists=\"replace\")\n",
    "zones = pd.DataFrame({\"LocationID\":[1,2,3,4,5],\"Borough\":[\"Manhattan\",\"Brooklyn\",\"Queens\",\"Bronx\",\"Staten Island\"]})\n",
    "zones.to_sql(\"zones\", conn, index=False, if_exists=\"replace\")\n",
    "\n",
    "\n",
    "# Question 1\n",
    "q1 = pd.read_sql_query(\"\"\"\n",
    "SELECT z.Borough, AVG(t.trip_distance) AS avg_distance\n",
    "FROM trips t\n",
    "JOIN zones z ON t.PULocationID = z.LocationID\n",
    "GROUP BY z.Borough\n",
    "ORDER BY avg_distance DESC\n",
    "\"\"\", conn)\n",
    "print(q1)\n",
    "\n",
    "# Question 2\n",
    "\n",
    "q2 = pd.read_sql_query(\"\"\"\n",
    "SELECT z.Borough, AVG(t.fare_amount) AS avg_fare\n",
    "FROM trips t\n",
    "JOIN zones z ON t.PULocationID = z.LocationID\n",
    "GROUP BY z.Borough\n",
    "ORDER BY avg_fare DESC\n",
    "\"\"\", conn)\n",
    "print(q2)\n",
    "\n",
    "# Question 3\n",
    "\n",
    "q3 = pd.read_sql_query(\"\"\"\n",
    "SELECT day_of_week, COUNT(*) AS trips\n",
    "FROM trips\n",
    "GROUP BY day_of_week\n",
    "ORDER BY trips DESC\n",
    "\"\"\", conn)\n",
    "print(\"busiest:\", q3.iloc[0][\"day_of_week\"], int(q3.iloc[0][\"trips\"]))\n",
    "print(\"calmest:\", q3.iloc[-1][\"day_of_week\"], int(q3.iloc[-1][\"trips\"]))\n",
    "print(q3)\n"
   ],
   "outputs": [
    {
     "ename": "NameError",
     "evalue": "name 'df_trips' is not defined",
     "output_type": "error",
     "traceback": [
      "\u001B[1;31m---------------------------------------------------------------------------\u001B[0m",
      "\u001B[1;31mNameError\u001B[0m                                 Traceback (most recent call last)",
      "Cell \u001B[1;32mIn[3], line 4\u001B[0m\n\u001B[0;32m      1\u001B[0m \u001B[38;5;28;01mimport\u001B[39;00m\u001B[38;5;250m \u001B[39m\u001B[38;5;21;01msqlite3\u001B[39;00m\u001B[38;5;241m,\u001B[39m\u001B[38;5;250m \u001B[39m\u001B[38;5;21;01mpandas\u001B[39;00m\u001B[38;5;250m \u001B[39m\u001B[38;5;28;01mas\u001B[39;00m\u001B[38;5;250m \u001B[39m\u001B[38;5;21;01mpd\u001B[39;00m\n\u001B[0;32m      3\u001B[0m conn \u001B[38;5;241m=\u001B[39m sqlite3\u001B[38;5;241m.\u001B[39mconnect(\u001B[38;5;124m\"\u001B[39m\u001B[38;5;124m:memory:\u001B[39m\u001B[38;5;124m\"\u001B[39m)\n\u001B[1;32m----> 4\u001B[0m \u001B[43mdf_trips\u001B[49m\u001B[38;5;241m.\u001B[39mto_sql(\u001B[38;5;124m\"\u001B[39m\u001B[38;5;124mtrips\u001B[39m\u001B[38;5;124m\"\u001B[39m, conn, index\u001B[38;5;241m=\u001B[39m\u001B[38;5;28;01mFalse\u001B[39;00m, if_exists\u001B[38;5;241m=\u001B[39m\u001B[38;5;124m\"\u001B[39m\u001B[38;5;124mreplace\u001B[39m\u001B[38;5;124m\"\u001B[39m)\n\u001B[0;32m      5\u001B[0m zones \u001B[38;5;241m=\u001B[39m pd\u001B[38;5;241m.\u001B[39mDataFrame({\u001B[38;5;124m\"\u001B[39m\u001B[38;5;124mLocationID\u001B[39m\u001B[38;5;124m\"\u001B[39m:[\u001B[38;5;241m1\u001B[39m,\u001B[38;5;241m2\u001B[39m,\u001B[38;5;241m3\u001B[39m,\u001B[38;5;241m4\u001B[39m,\u001B[38;5;241m5\u001B[39m],\u001B[38;5;124m\"\u001B[39m\u001B[38;5;124mBorough\u001B[39m\u001B[38;5;124m\"\u001B[39m:[\u001B[38;5;124m\"\u001B[39m\u001B[38;5;124mManhattan\u001B[39m\u001B[38;5;124m\"\u001B[39m,\u001B[38;5;124m\"\u001B[39m\u001B[38;5;124mBrooklyn\u001B[39m\u001B[38;5;124m\"\u001B[39m,\u001B[38;5;124m\"\u001B[39m\u001B[38;5;124mQueens\u001B[39m\u001B[38;5;124m\"\u001B[39m,\u001B[38;5;124m\"\u001B[39m\u001B[38;5;124mBronx\u001B[39m\u001B[38;5;124m\"\u001B[39m,\u001B[38;5;124m\"\u001B[39m\u001B[38;5;124mStaten Island\u001B[39m\u001B[38;5;124m\"\u001B[39m]})\n\u001B[0;32m      6\u001B[0m zones\u001B[38;5;241m.\u001B[39mto_sql(\u001B[38;5;124m\"\u001B[39m\u001B[38;5;124mzones\u001B[39m\u001B[38;5;124m\"\u001B[39m, conn, index\u001B[38;5;241m=\u001B[39m\u001B[38;5;28;01mFalse\u001B[39;00m, if_exists\u001B[38;5;241m=\u001B[39m\u001B[38;5;124m\"\u001B[39m\u001B[38;5;124mreplace\u001B[39m\u001B[38;5;124m\"\u001B[39m)\n",
      "\u001B[1;31mNameError\u001B[0m: name 'df_trips' is not defined"
     ]
    }
   ],
   "execution_count": 3
  },
  {
   "cell_type": "markdown",
   "metadata": {
    "application/vnd.databricks.v1+cell": {
     "cellMetadata": {
      "byteLimit": 2048000,
      "rowLimit": 10000
     },
     "inputWidgets": {},
     "nuid": "c4376b74-d167-4516-a30c-0f28fbed0430",
     "showTitle": false,
     "tableResultSettingsMap": {},
     "title": ""
    }
   },
   "source": [
    "#\n",
    "### Part 4\n",
    "\n",
    "As of spark v4 dataframes have native visualization support. Choose at least 3 questions from above and provide visualizations.\n"
   ]
  },
  {
   "metadata": {},
   "cell_type": "code",
   "outputs": [],
   "execution_count": null,
   "source": [
    "import pandas as pd, matplotlib.pyplot as plt\n",
    "\n",
    "zones = pd.DataFrame({\"LocationID\":[1,2,3,4,5],\"Borough\":[\"Manhattan\",\"Brooklyn\",\"Queens\",\"Bronx\",\"Staten Island\"]})\n",
    "df_pickup = df_trips.merge(zones, left_on=\"PULocationID\", right_on=\"LocationID\")\n",
    "s = df_pickup.groupby(\"Borough\").size().sort_values(ascending=False)\n",
    "plt.figure()\n",
    "s.plot(kind=\"bar\")\n",
    "plt.title(\"Pickups by Borough\")\n",
    "plt.xlabel(\"Borough\")\n",
    "plt.ylabel(\"Pickups\")\n",
    "plt.xticks(rotation=45)\n",
    "plt.tight_layout()\n",
    "\n",
    "import matplotlib.pyplot as plt\n",
    "\n",
    "daily = df_trips.groupby(\"date\").size().sort_index()\n",
    "plt.figure()\n",
    "daily.plot()\n",
    "plt.title(\"Trips per Day (January)\")\n",
    "plt.xlabel(\"Date\")\n",
    "plt.ylabel(\"Trips\")\n",
    "plt.tight_layout()\n",
    "\n",
    "import matplotlib.pyplot as plt\n",
    "cats = [\"Late Night\",\"Morning\",\"Afternoon\",\"Evening\"]\n",
    "data = [df_trips.loc[df_trips[\"time_of_day\"]==c, \"trip_distance\"] for c in cats]\n",
    "plt.figure()\n",
    "plt.boxplot(data, labels=cats)\n",
    "plt.title(\"Trip Distance by Time of Day\")\n",
    "plt.xlabel(\"Time of Day\")\n",
    "plt.ylabel(\"Trip Distance\")\n",
    "plt.tight_layout()\n"
   ]
  },
  {
   "cell_type": "markdown",
   "metadata": {
    "application/vnd.databricks.v1+cell": {
     "cellMetadata": {
      "byteLimit": 2048000,
      "rowLimit": 10000
     },
     "inputWidgets": {},
     "nuid": "22d71458-86fd-4602-aba5-cca2e9a7054f",
     "showTitle": false,
     "tableResultSettingsMap": {},
     "title": ""
    }
   },
   "source": [
    "# Where to go from here\n",
    "\n",
    "- Continue building the dataset by loading in more data, start by completing the data for 2019 and calculating the busiest season (fall, winter, spring, summer)\n",
    "- Explore a dataset/datasets of your choosing"
   ]
  }
 ],
 "metadata": {
  "application/vnd.databricks.v1+notebook": {
   "computePreferences": null,
   "dashboards": [],
   "environmentMetadata": {
    "base_environment": "",
    "environment_version": "3"
   },
   "inputWidgetPreferences": null,
   "language": "python",
   "notebookMetadata": {
    "pythonIndentUnit": 4
   },
   "notebookName": "eda_nyc_taxi",
   "widgets": {}
  },
  "kernelspec": {
   "display_name": "Python 3 (ipykernel)",
   "name": "python3",
   "language": "python"
  },
  "language_info": {
   "codemirror_mode": {
    "name": "ipython",
    "version": 3
   },
   "file_extension": ".py",
   "mimetype": "text/x-python",
   "name": "python",
   "nbconvert_exporter": "python",
   "pygments_lexer": "ipython3",
   "version": "3.11.8"
  }
 },
 "nbformat": 4,
 "nbformat_minor": 4
}
