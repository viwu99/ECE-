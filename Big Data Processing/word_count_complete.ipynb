{
  "cells": [
    {
      "cell_type": "markdown",
      "metadata": {
        "id": "0WPylkxI7S73"
      },
      "source": [
        "# Prerequisites"
      ]
    },
    {
      "cell_type": "code",
      "execution_count": null,
      "metadata": {
        "id": "TAnIgoXgv3FI",
        "colab": {
          "base_uri": "https://localhost:8080/"
        },
        "outputId": "6932871b-38b8-4c09-c4ce-c819ce2ce348"
      },
      "outputs": [
        {
          "output_type": "stream",
          "name": "stdout",
          "text": [
            "\r0% [Working]\r            \rHit:1 https://cloud.r-project.org/bin/linux/ubuntu jammy-cran40/ InRelease\n",
            "Hit:2 https://cli.github.com/packages stable InRelease\n",
            "Hit:3 https://developer.download.nvidia.com/compute/cuda/repos/ubuntu2204/x86_64  InRelease\n",
            "Hit:4 https://r2u.stat.illinois.edu/ubuntu jammy InRelease\n",
            "Hit:5 http://archive.ubuntu.com/ubuntu jammy InRelease\n",
            "Get:6 http://security.ubuntu.com/ubuntu jammy-security InRelease [129 kB]\n",
            "Get:7 http://archive.ubuntu.com/ubuntu jammy-updates InRelease [128 kB]\n",
            "Hit:8 https://ppa.launchpadcontent.net/deadsnakes/ppa/ubuntu jammy InRelease\n",
            "Hit:9 https://ppa.launchpadcontent.net/graphics-drivers/ppa/ubuntu jammy InRelease\n",
            "Hit:10 https://ppa.launchpadcontent.net/ubuntugis/ppa/ubuntu jammy InRelease\n",
            "Hit:11 http://archive.ubuntu.com/ubuntu jammy-backports InRelease\n",
            "Fetched 257 kB in 1s (197 kB/s)\n",
            "Reading package lists... Done\n",
            "W: Skipping acquire of configured file 'main/source/Sources' as repository 'https://r2u.stat.illinois.edu/ubuntu jammy InRelease' does not seem to provide it (sources.list entry misspelt?)\n"
          ]
        }
      ],
      "source": [
        "# Update packages and install required java version\n",
        "!apt-get update\n",
        "!apt-get install openjdk-21-jdk-headless -qq > /dev/null\n",
        "\n",
        "# download and unzip spark\n",
        "!wget -nc -q https://downloads.apache.org/spark/spark-4.0.0/spark-4.0.0-bin-hadoop3.tgz\n",
        "!tar xf spark-4.0.0-bin-hadoop3.tgz\n",
        "\n",
        "# get data for labs\n",
        "!wget -nc -O around_the_world_in_80_days.txt https://www.gutenberg.org/ebooks/103.txt.utf-8\n",
        "\n",
        "# install findspark\n",
        "!pip install -q findspark"
      ]
    },
    {
      "cell_type": "code",
      "execution_count": null,
      "metadata": {
        "id": "amepofAo0Z88"
      },
      "outputs": [],
      "source": [
        "import os\n",
        "import findspark\n",
        "\n",
        "# set env vars for java and spark\n",
        "os.environ[\"JAVA_HOME\"] = \"/usr/lib/jvm/java-21-openjdk-amd64\"\n",
        "os.environ[\"SPARK_HOME\"] = \"/content/spark-4.0.0-bin-hadoop3\"\n",
        "\n",
        "# start findspark so notebook can interact with spark\n",
        "findspark.init()\n"
      ]
    },
    {
      "cell_type": "code",
      "execution_count": null,
      "metadata": {
        "id": "Zmv2ros75Gnu"
      },
      "outputs": [],
      "source": [
        "# what does findspark do? use the ?? magic command to find out\n",
        "# Note 1: in colab, this may open in a side panel\n",
        "# Note 2: this magic command is often helpful when encountering an object in a\n",
        "# notebook that is unfamiliar. More information will be displayed if it exists\n",
        "?? findspark"
      ]
    },
    {
      "cell_type": "markdown",
      "metadata": {
        "id": "NyrzgODB7h-I"
      },
      "source": [
        "# 1. Word Count"
      ]
    },
    {
      "cell_type": "markdown",
      "metadata": {
        "id": "ubaJBAcmHN7w"
      },
      "source": [
        "Instructions:  \n",
        "For each cell marked \"double-click and add explanation here\" please answer the question in your own words.  \n",
        "In the section where you complete the code to perform basic nlp text cleaning and exploration tasks, the goal is to chain all of the transformations together in a single function. For learning and exploration purposes, it is acceptable to have each step seperate, but the last cell in this section should be one function with all transformations chained together.  \n",
        "For steps c and f, it is acceptable to use your favorite chatbot to generate a list of common stop words (c) and punctuation (e) for use in the code. As these are common steps in nlp/text processing tasks, there are pleanty of libraries to help with this such as nltk, but there is no need to import extra dependencies for this lab unless you are already familiar with working with them."
      ]
    },
    {
      "cell_type": "code",
      "execution_count": null,
      "metadata": {
        "id": "sT9v8V8z3xRh"
      },
      "outputs": [],
      "source": [
        "# start a spark session and create spark context for making rdd\n",
        "from pyspark.sql import SparkSession\n",
        "spark = SparkSession.builder \\\n",
        "    .appName(\"word_count\") \\\n",
        "    .getOrCreate()\n",
        "\n",
        "sc = spark.sparkContext\n",
        "print('lol')"
      ]
    },
    {
      "cell_type": "code",
      "execution_count": null,
      "metadata": {
        "id": "WQuzr4jFgwA8"
      },
      "outputs": [],
      "source": [
        "# Defind the rdd\n",
        "rdd = sc.textFile('/content/around_the_world_in_80_days.txt')"
      ]
    },
    {
      "cell_type": "code",
      "execution_count": null,
      "metadata": {
        "id": "eDOA5KkhhEpe"
      },
      "outputs": [],
      "source": [
        "# view the first x lines of the rdd\n",
        "rdd.take(20)"
      ]
    },
    {
      "cell_type": "code",
      "execution_count": null,
      "metadata": {
        "id": "-Ygmzp9YhIuc"
      },
      "outputs": [],
      "source": [
        "# example lambda function\n",
        "words = rdd.flatMap(lambda lines: lines.split(' '))"
      ]
    },
    {
      "cell_type": "code",
      "execution_count": null,
      "metadata": {
        "id": "cx0OTFbfhTmg"
      },
      "outputs": [],
      "source": [
        "# Note and explain the output of the below command\n",
        "words\n"
      ]
    },
    {
      "cell_type": "markdown",
      "metadata": {
        "id": "-ebu8bJo8yTa"
      },
      "source": [
        "reference to the RDD // the adress"
      ]
    },
    {
      "cell_type": "markdown",
      "metadata": {
        "id": "xSFM2oMV8a4l"
      },
      "source": [
        "<ADD EXPLANATION HERE>"
      ]
    },
    {
      "cell_type": "code",
      "execution_count": null,
      "metadata": {
        "id": "mZ0xArEv8u_0"
      },
      "outputs": [],
      "source": [
        "# Note and explain the output of the following command, focusing on the difference with the\n",
        "# above command\n",
        "words.collect()"
      ]
    },
    {
      "cell_type": "markdown",
      "metadata": {
        "id": "b8xJlKEB9aDY"
      },
      "source": [
        "compute a list of all the word. What we see is the list of the word of the book"
      ]
    },
    {
      "cell_type": "code",
      "execution_count": null,
      "metadata": {
        "id": "eD96cn2NhUaZ"
      },
      "outputs": [],
      "source": [
        "# nicer print\n",
        "for w in words.collect():\n",
        "    print(w)"
      ]
    },
    {
      "cell_type": "code",
      "execution_count": null,
      "metadata": {
        "id": "2tQ4EUF7hyDx"
      },
      "outputs": [],
      "source": [
        "# Print first x words\n",
        "words.take(20)"
      ]
    },
    {
      "cell_type": "code",
      "execution_count": null,
      "metadata": {
        "id": "O6M0MIGmEVrq"
      },
      "outputs": [],
      "source": [
        "# Use cell magic command to help understand what the rdd.flatMap function is doing in the next cell.\n",
        "# Insert a text/markdown cell and explain in your own words."
      ]
    },
    {
      "cell_type": "markdown",
      "source": [
        "It associate the word to a tupple, it's before the grouping"
      ],
      "metadata": {
        "id": "0a35CcIiuoNE"
      }
    },
    {
      "cell_type": "code",
      "execution_count": null,
      "metadata": {
        "id": "BdkOE8Pzh4sV",
        "collapsed": true
      },
      "outputs": [],
      "source": [
        "# Initialize a word counter by creating a tuple with word and cound of 1\n",
        "words = rdd.flatMap(lambda lines: lines.split(' ')) \\\n",
        "                    .map(lambda word: (word, 1))\n",
        "\n",
        "for w in words.collect():\n",
        "    print(w)"
      ]
    },
    {
      "cell_type": "code",
      "execution_count": null,
      "metadata": {
        "id": "hFu72I93_8CS",
        "collapsed": true
      },
      "outputs": [],
      "source": [
        "# a. count the occurence of each word\n",
        "wordscount = words.reduceByKey(lambda x, y : x+y).collect()"
      ]
    },
    {
      "cell_type": "code",
      "execution_count": null,
      "metadata": {
        "id": "dYAIt8A8AGGn",
        "collapsed": true
      },
      "outputs": [],
      "source": [
        "# b. a common first step in text analysis, change all capital letters to lower case\n",
        "words.map(lambda w: w.lower())"
      ]
    },
    {
      "cell_type": "markdown",
      "source": [],
      "metadata": {
        "id": "huYV0cO2u73S"
      }
    },
    {
      "cell_type": "code",
      "execution_count": null,
      "metadata": {
        "id": "CNr23N3MAVla"
      },
      "outputs": [],
      "source": [
        "# c. eliminate the stop words.\n",
        "\n",
        "words.filter(lambda w: w.lower() not in [\"stop\"])"
      ]
    },
    {
      "cell_type": "code",
      "execution_count": null,
      "metadata": {
        "id": "HjOm9cn7B5lI",
        "collapsed": true
      },
      "outputs": [],
      "source": [
        "# d. sort in alphabetical order\n",
        "words.reduceByKey(lambda x, y : x+y).sortByKey().collect()\n",
        "\n"
      ]
    },
    {
      "cell_type": "code",
      "execution_count": null,
      "metadata": {
        "id": "WXrqvUwuCD5E"
      },
      "outputs": [],
      "source": [
        "# e. sort descending by word frequency\n",
        "rdd.flatMap(lambda lines: lines.split(' ')) \\\n",
        "                    .map(lambda word: (word, 1)) \\\n",
        "                    .reduceByKey(lambda x, y : x+y) \\\n",
        "                    .sortBy(lambda x: x[1], ascending=False).collect()\n"
      ]
    },
    {
      "cell_type": "code",
      "execution_count": null,
      "metadata": {
        "id": "AJr1n25lCN2B"
      },
      "outputs": [],
      "source": [
        "# f. remove punctuations and blank spaces\n",
        "\n",
        "import re\n",
        "words = words.map(lambda w: re.sub(r'[^a-zA-Z0-9]', '', w)) \\\n",
        "             .filter(lambda w: w != '')"
      ]
    },
    {
      "cell_type": "markdown",
      "metadata": {
        "id": "81MYw5zXCv8X"
      },
      "source": [
        "# 2. What does the following cell block do?\n",
        "Comment the code below line by line after the provided hash-tag. You should be able to explain each line while respecting the pep8 style guide of 79 characters or less per line!"
      ]
    },
    {
      "cell_type": "code",
      "execution_count": null,
      "metadata": {
        "id": "FrrNF7seCaZ2"
      },
      "outputs": [],
      "source": [
        " # Create an RDD of tuples (name, age)\n",
        "dataRDD = sc.parallelize([(\"Brooke\", 20), (\"Denny\", 31), (\"Jules\", 30),\n",
        "(\"TD\", 35), (\"Brooke\", 25)])\n",
        "\n",
        "# Try to undestand what this code does (line by line)\n",
        "agesRDD = (dataRDD\n",
        "  # key is the name and value of tuple with age and counter\n",
        "  .map(lambda x: (x[0], (x[1], 1)))\n",
        "  # reduce by adding the age and count the number of name\n",
        "  .reduceByKey(lambda x, y: (x[0] + y[0], x[1] + y[1]))\n",
        "  # doing the mean of the age per name\n",
        "  .map(lambda x: (x[0], x[1][0]/x[1][1])))"
      ]
    },
    {
      "cell_type": "code",
      "execution_count": null,
      "metadata": {
        "id": "XH329uSEU0s_"
      },
      "outputs": [],
      "source": []
    }
  ],
  "metadata": {
    "colab": {
      "provenance": []
    },
    "kernelspec": {
      "display_name": "Python 3 (ipykernel)",
      "language": "python",
      "name": "python3"
    },
    "language_info": {
      "codemirror_mode": {
        "name": "ipython",
        "version": 3
      },
      "file_extension": ".py",
      "mimetype": "text/x-python",
      "name": "python",
      "nbconvert_exporter": "python",
      "pygments_lexer": "ipython3",
      "version": "3.13.2"
    }
  },
  "nbformat": 4,
  "nbformat_minor": 0
}